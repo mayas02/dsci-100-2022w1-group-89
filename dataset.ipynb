{
 "cells": [
  {
   "cell_type": "markdown",
   "id": "6d65e8b9-87b4-458f-ac5a-e54896b18474",
   "metadata": {},
   "source": [
    "## DSCI Group Project (Group 89: Ava Alexander, Fangzhou Ye, Maya Seethram)"
   ]
  },
  {
   "cell_type": "markdown",
   "id": "4cb5da6e-4a30-4285-be8b-63864839da6d",
   "metadata": {},
   "source": [
    "#### Predictive Question: Can we predict whether or not a class has completed a test preparation course based on their test results?\n"
   ]
  },
  {
   "cell_type": "markdown",
   "id": "604791a8-62b7-49ef-afcd-660b4b235b79",
   "metadata": {},
   "source": [
    "### INTRODUCTION"
   ]
  },
  {
   "cell_type": "markdown",
   "id": "7a9dd94b-7e28-40b8-9bab-11a1d1b1daf4",
   "metadata": {},
   "source": [
    "Are high marks in school a result of hardwork and effort, or simply a result of natural intelligence? There always seem to be students who achieve high grades without having studied all semester. We want to explore whether success in exams can be achieved by natural intelligence alone, or whether hard work and studying is necessary to succeed."
   ]
  },
  {
   "cell_type": "markdown",
   "id": "f0b005d2-1b4e-4b42-ae8f-54ed35c21487",
   "metadata": {},
   "source": [
    "We would like to try to predict the following question: Can we use the academic test scores available to us to predict whether a student has completed a test preparation course prior to their test?\n"
   ]
  },
  {
   "cell_type": "markdown",
   "id": "ac7531ca-91f4-4be2-a8a7-bb18cd927929",
   "metadata": {},
   "source": [
    "We will be using a dataset of student exam scores at public schools. The dataset provides data for whether or not the student completed a test preparation course prior to the test, as well as their math, reading, and writing scores from the test. We will use this data to explore the relation between exam scores and preparation taken. \n"
   ]
  },
  {
   "cell_type": "markdown",
   "id": "7f4f74e2-b3ec-418f-8ccf-95a89d300ac9",
   "metadata": {},
   "source": [
    "### PRELIMINARY EXPLORATORY DATA ANALYSIS"
   ]
  },
  {
   "cell_type": "markdown",
   "id": "ac2cad30-709d-4a72-84c3-a12fb32f107d",
   "metadata": {},
   "source": [
    "First, we loaded the tidyverse and tidymodels packages "
   ]
  },
  {
   "cell_type": "code",
   "execution_count": 48,
   "id": "a4f8f31b-e585-4174-9052-078a4d670a01",
   "metadata": {},
   "outputs": [],
   "source": [
    "library(tidyverse)\n",
    "library(tidymodels)\n",
    "library(gridExtra)\n",
    "library(cowplot)"
   ]
  },
  {
   "cell_type": "markdown",
   "id": "2783e96d-9026-4b0e-8e30-e6f4a502ebfa",
   "metadata": {},
   "source": [
    "We loaded our dataset \"exams\" as a .csv file using the read_csv function and saved it to the object exam_data"
   ]
  },
  {
   "cell_type": "code",
   "execution_count": 53,
   "id": "981b4bd2-c312-4879-90d9-6790a2d3300a",
   "metadata": {},
   "outputs": [
    {
     "name": "stderr",
     "output_type": "stream",
     "text": [
      "\u001b[1mRows: \u001b[22m\u001b[34m1000\u001b[39m \u001b[1mColumns: \u001b[22m\u001b[34m8\u001b[39m\n",
      "\u001b[36m──\u001b[39m \u001b[1mColumn specification\u001b[22m \u001b[36m────────────────────────────────────────────────────────\u001b[39m\n",
      "\u001b[1mDelimiter:\u001b[22m \",\"\n",
      "\u001b[31mchr\u001b[39m (5): gender, race/ethnicity, parental level of education, lunch, test pr...\n",
      "\u001b[32mdbl\u001b[39m (3): math score, reading score, writing score\n",
      "\n",
      "\u001b[36mℹ\u001b[39m Use `spec()` to retrieve the full column specification for this data.\n",
      "\u001b[36mℹ\u001b[39m Specify the column types or set `show_col_types = FALSE` to quiet this message.\n"
     ]
    },
    {
     "data": {
      "text/html": [
       "<table class=\"dataframe\">\n",
       "<caption>A tibble: 6 × 8</caption>\n",
       "<thead>\n",
       "\t<tr><th scope=col>gender</th><th scope=col>race/ethnicity</th><th scope=col>parental level of education</th><th scope=col>lunch</th><th scope=col>test preparation course</th><th scope=col>math score</th><th scope=col>reading score</th><th scope=col>writing score</th></tr>\n",
       "\t<tr><th scope=col>&lt;chr&gt;</th><th scope=col>&lt;chr&gt;</th><th scope=col>&lt;chr&gt;</th><th scope=col>&lt;chr&gt;</th><th scope=col>&lt;chr&gt;</th><th scope=col>&lt;dbl&gt;</th><th scope=col>&lt;dbl&gt;</th><th scope=col>&lt;dbl&gt;</th></tr>\n",
       "</thead>\n",
       "<tbody>\n",
       "\t<tr><td>male  </td><td>group A</td><td>high school       </td><td>standard    </td><td>completed</td><td>67</td><td>67</td><td>63</td></tr>\n",
       "\t<tr><td>female</td><td>group D</td><td>some high school  </td><td>free/reduced</td><td>none     </td><td>40</td><td>59</td><td>55</td></tr>\n",
       "\t<tr><td>male  </td><td>group E</td><td>some college      </td><td>free/reduced</td><td>none     </td><td>59</td><td>60</td><td>50</td></tr>\n",
       "\t<tr><td>male  </td><td>group B</td><td>high school       </td><td>standard    </td><td>none     </td><td>77</td><td>78</td><td>68</td></tr>\n",
       "\t<tr><td>male  </td><td>group E</td><td>associate's degree</td><td>standard    </td><td>completed</td><td>78</td><td>73</td><td>68</td></tr>\n",
       "\t<tr><td>female</td><td>group D</td><td>high school       </td><td>standard    </td><td>none     </td><td>63</td><td>77</td><td>76</td></tr>\n",
       "</tbody>\n",
       "</table>\n"
      ],
      "text/latex": [
       "A tibble: 6 × 8\n",
       "\\begin{tabular}{llllllll}\n",
       " gender & race/ethnicity & parental level of education & lunch & test preparation course & math score & reading score & writing score\\\\\n",
       " <chr> & <chr> & <chr> & <chr> & <chr> & <dbl> & <dbl> & <dbl>\\\\\n",
       "\\hline\n",
       "\t male   & group A & high school        & standard     & completed & 67 & 67 & 63\\\\\n",
       "\t female & group D & some high school   & free/reduced & none      & 40 & 59 & 55\\\\\n",
       "\t male   & group E & some college       & free/reduced & none      & 59 & 60 & 50\\\\\n",
       "\t male   & group B & high school        & standard     & none      & 77 & 78 & 68\\\\\n",
       "\t male   & group E & associate's degree & standard     & completed & 78 & 73 & 68\\\\\n",
       "\t female & group D & high school        & standard     & none      & 63 & 77 & 76\\\\\n",
       "\\end{tabular}\n"
      ],
      "text/markdown": [
       "\n",
       "A tibble: 6 × 8\n",
       "\n",
       "| gender &lt;chr&gt; | race/ethnicity &lt;chr&gt; | parental level of education &lt;chr&gt; | lunch &lt;chr&gt; | test preparation course &lt;chr&gt; | math score &lt;dbl&gt; | reading score &lt;dbl&gt; | writing score &lt;dbl&gt; |\n",
       "|---|---|---|---|---|---|---|---|\n",
       "| male   | group A | high school        | standard     | completed | 67 | 67 | 63 |\n",
       "| female | group D | some high school   | free/reduced | none      | 40 | 59 | 55 |\n",
       "| male   | group E | some college       | free/reduced | none      | 59 | 60 | 50 |\n",
       "| male   | group B | high school        | standard     | none      | 77 | 78 | 68 |\n",
       "| male   | group E | associate's degree | standard     | completed | 78 | 73 | 68 |\n",
       "| female | group D | high school        | standard     | none      | 63 | 77 | 76 |\n",
       "\n"
      ],
      "text/plain": [
       "  gender race/ethnicity parental level of education lunch       \n",
       "1 male   group A        high school                 standard    \n",
       "2 female group D        some high school            free/reduced\n",
       "3 male   group E        some college                free/reduced\n",
       "4 male   group B        high school                 standard    \n",
       "5 male   group E        associate's degree          standard    \n",
       "6 female group D        high school                 standard    \n",
       "  test preparation course math score reading score writing score\n",
       "1 completed               67         67            63           \n",
       "2 none                    40         59            55           \n",
       "3 none                    59         60            50           \n",
       "4 none                    77         78            68           \n",
       "5 completed               78         73            68           \n",
       "6 none                    63         77            76           "
      ]
     },
     "metadata": {},
     "output_type": "display_data"
    },
    {
     "data": {
      "text/html": [
       "<table class=\"dataframe\">\n",
       "<caption>A tibble: 6 × 8</caption>\n",
       "<thead>\n",
       "\t<tr><th scope=col>gender</th><th scope=col>race.ethnicity</th><th scope=col>parental.level.of.education</th><th scope=col>lunch</th><th scope=col>test.preparation.course</th><th scope=col>math.score</th><th scope=col>reading.score</th><th scope=col>writing.score</th></tr>\n",
       "\t<tr><th scope=col>&lt;chr&gt;</th><th scope=col>&lt;chr&gt;</th><th scope=col>&lt;chr&gt;</th><th scope=col>&lt;chr&gt;</th><th scope=col>&lt;chr&gt;</th><th scope=col>&lt;dbl&gt;</th><th scope=col>&lt;dbl&gt;</th><th scope=col>&lt;dbl&gt;</th></tr>\n",
       "</thead>\n",
       "<tbody>\n",
       "\t<tr><td>male  </td><td>group A</td><td>high school       </td><td>standard    </td><td>completed</td><td>67</td><td>67</td><td>63</td></tr>\n",
       "\t<tr><td>female</td><td>group D</td><td>some high school  </td><td>free/reduced</td><td>none     </td><td>40</td><td>59</td><td>55</td></tr>\n",
       "\t<tr><td>male  </td><td>group E</td><td>some college      </td><td>free/reduced</td><td>none     </td><td>59</td><td>60</td><td>50</td></tr>\n",
       "\t<tr><td>male  </td><td>group B</td><td>high school       </td><td>standard    </td><td>none     </td><td>77</td><td>78</td><td>68</td></tr>\n",
       "\t<tr><td>male  </td><td>group E</td><td>associate's degree</td><td>standard    </td><td>completed</td><td>78</td><td>73</td><td>68</td></tr>\n",
       "\t<tr><td>female</td><td>group D</td><td>high school       </td><td>standard    </td><td>none     </td><td>63</td><td>77</td><td>76</td></tr>\n",
       "</tbody>\n",
       "</table>\n"
      ],
      "text/latex": [
       "A tibble: 6 × 8\n",
       "\\begin{tabular}{llllllll}\n",
       " gender & race.ethnicity & parental.level.of.education & lunch & test.preparation.course & math.score & reading.score & writing.score\\\\\n",
       " <chr> & <chr> & <chr> & <chr> & <chr> & <dbl> & <dbl> & <dbl>\\\\\n",
       "\\hline\n",
       "\t male   & group A & high school        & standard     & completed & 67 & 67 & 63\\\\\n",
       "\t female & group D & some high school   & free/reduced & none      & 40 & 59 & 55\\\\\n",
       "\t male   & group E & some college       & free/reduced & none      & 59 & 60 & 50\\\\\n",
       "\t male   & group B & high school        & standard     & none      & 77 & 78 & 68\\\\\n",
       "\t male   & group E & associate's degree & standard     & completed & 78 & 73 & 68\\\\\n",
       "\t female & group D & high school        & standard     & none      & 63 & 77 & 76\\\\\n",
       "\\end{tabular}\n"
      ],
      "text/markdown": [
       "\n",
       "A tibble: 6 × 8\n",
       "\n",
       "| gender &lt;chr&gt; | race.ethnicity &lt;chr&gt; | parental.level.of.education &lt;chr&gt; | lunch &lt;chr&gt; | test.preparation.course &lt;chr&gt; | math.score &lt;dbl&gt; | reading.score &lt;dbl&gt; | writing.score &lt;dbl&gt; |\n",
       "|---|---|---|---|---|---|---|---|\n",
       "| male   | group A | high school        | standard     | completed | 67 | 67 | 63 |\n",
       "| female | group D | some high school   | free/reduced | none      | 40 | 59 | 55 |\n",
       "| male   | group E | some college       | free/reduced | none      | 59 | 60 | 50 |\n",
       "| male   | group B | high school        | standard     | none      | 77 | 78 | 68 |\n",
       "| male   | group E | associate's degree | standard     | completed | 78 | 73 | 68 |\n",
       "| female | group D | high school        | standard     | none      | 63 | 77 | 76 |\n",
       "\n"
      ],
      "text/plain": [
       "  gender race.ethnicity parental.level.of.education lunch       \n",
       "1 male   group A        high school                 standard    \n",
       "2 female group D        some high school            free/reduced\n",
       "3 male   group E        some college                free/reduced\n",
       "4 male   group B        high school                 standard    \n",
       "5 male   group E        associate's degree          standard    \n",
       "6 female group D        high school                 standard    \n",
       "  test.preparation.course math.score reading.score writing.score\n",
       "1 completed               67         67            63           \n",
       "2 none                    40         59            55           \n",
       "3 none                    59         60            50           \n",
       "4 none                    77         78            68           \n",
       "5 completed               78         73            68           \n",
       "6 none                    63         77            76           "
      ]
     },
     "metadata": {},
     "output_type": "display_data"
    }
   ],
   "source": [
    "#Read data\n",
    "exam_data <- read_csv(\"https://raw.githubusercontent.com/mayas02/dsci-100-2022w1-group-89/main/exams.csv\")\n",
    "head(exam_data)\n",
    "#Change the col name\n",
    "colnames(exam_data) <- make.names(colnames(exam_data))\n",
    "head(exam_data)"
   ]
  },
  {
   "cell_type": "markdown",
   "id": "ee17b9f9-a297-4d7f-a134-e9b67f141248",
   "metadata": {},
   "source": [
    "We replaced the spaces in the column names using the make.names function so that we can use the tidyverse functions"
   ]
  },
  {
   "cell_type": "markdown",
   "id": "715652d7-5c51-4c34-901e-4f0fc788e23d",
   "metadata": {},
   "source": [
    "We mutated the exam data and selected for the columns we will use.  We decided to exclude other non-numeric variables and only focus on numeric variables to classify possible students as either completed or not completed their test preparation based on their three exam grades.  "
   ]
  },
  {
   "cell_type": "code",
   "execution_count": 54,
   "id": "81d89ba3-dbbd-48db-a9cb-a5db9a85b89c",
   "metadata": {},
   "outputs": [
    {
     "data": {
      "text/html": [
       "<table class=\"dataframe\">\n",
       "<caption>A tibble: 6 × 4</caption>\n",
       "<thead>\n",
       "\t<tr><th scope=col>test.preparation.course</th><th scope=col>math.score</th><th scope=col>reading.score</th><th scope=col>writing.score</th></tr>\n",
       "\t<tr><th scope=col>&lt;fct&gt;</th><th scope=col>&lt;dbl&gt;</th><th scope=col>&lt;dbl&gt;</th><th scope=col>&lt;dbl&gt;</th></tr>\n",
       "</thead>\n",
       "<tbody>\n",
       "\t<tr><td>1</td><td>67</td><td>67</td><td>63</td></tr>\n",
       "\t<tr><td>0</td><td>40</td><td>59</td><td>55</td></tr>\n",
       "\t<tr><td>0</td><td>59</td><td>60</td><td>50</td></tr>\n",
       "\t<tr><td>0</td><td>77</td><td>78</td><td>68</td></tr>\n",
       "\t<tr><td>1</td><td>78</td><td>73</td><td>68</td></tr>\n",
       "\t<tr><td>0</td><td>63</td><td>77</td><td>76</td></tr>\n",
       "</tbody>\n",
       "</table>\n"
      ],
      "text/latex": [
       "A tibble: 6 × 4\n",
       "\\begin{tabular}{llll}\n",
       " test.preparation.course & math.score & reading.score & writing.score\\\\\n",
       " <fct> & <dbl> & <dbl> & <dbl>\\\\\n",
       "\\hline\n",
       "\t 1 & 67 & 67 & 63\\\\\n",
       "\t 0 & 40 & 59 & 55\\\\\n",
       "\t 0 & 59 & 60 & 50\\\\\n",
       "\t 0 & 77 & 78 & 68\\\\\n",
       "\t 1 & 78 & 73 & 68\\\\\n",
       "\t 0 & 63 & 77 & 76\\\\\n",
       "\\end{tabular}\n"
      ],
      "text/markdown": [
       "\n",
       "A tibble: 6 × 4\n",
       "\n",
       "| test.preparation.course &lt;fct&gt; | math.score &lt;dbl&gt; | reading.score &lt;dbl&gt; | writing.score &lt;dbl&gt; |\n",
       "|---|---|---|---|\n",
       "| 1 | 67 | 67 | 63 |\n",
       "| 0 | 40 | 59 | 55 |\n",
       "| 0 | 59 | 60 | 50 |\n",
       "| 0 | 77 | 78 | 68 |\n",
       "| 1 | 78 | 73 | 68 |\n",
       "| 0 | 63 | 77 | 76 |\n",
       "\n"
      ],
      "text/plain": [
       "  test.preparation.course math.score reading.score writing.score\n",
       "1 1                       67         67            63           \n",
       "2 0                       40         59            55           \n",
       "3 0                       59         60            50           \n",
       "4 0                       77         78            68           \n",
       "5 1                       78         73            68           \n",
       "6 0                       63         77            76           "
      ]
     },
     "metadata": {},
     "output_type": "display_data"
    }
   ],
   "source": [
    "#Make the test.preparation.course 0 and 1 then as factor\n",
    "exam <- exam_data |>\n",
    "mutate(test.preparation.course = ifelse(test.preparation.course == \"completed\", 1, 0)) |>\n",
    "mutate(test.preparation.course = as_factor(test.preparation.course)) |>\n",
    "select(test.preparation.course, math.score, reading.score, writing.score)\n",
    "head(exam)\n"
   ]
  },
  {
   "cell_type": "code",
   "execution_count": 55,
   "id": "79dc047d-fcb0-4c7a-9400-4a1cd11e0369",
   "metadata": {},
   "outputs": [
    {
     "data": {
      "text/html": [
       "<table class=\"dataframe\">\n",
       "<caption>A tibble: 1 × 9</caption>\n",
       "<thead>\n",
       "\t<tr><th scope=col>math_mean</th><th scope=col>reading_mean</th><th scope=col>writing_mean</th><th scope=col>math_med</th><th scope=col>reading_med</th><th scope=col>writing_med</th><th scope=col>math_sd</th><th scope=col>reading_sd</th><th scope=col>writing_sd</th></tr>\n",
       "\t<tr><th scope=col>&lt;dbl&gt;</th><th scope=col>&lt;dbl&gt;</th><th scope=col>&lt;dbl&gt;</th><th scope=col>&lt;dbl&gt;</th><th scope=col>&lt;dbl&gt;</th><th scope=col>&lt;dbl&gt;</th><th scope=col>&lt;dbl&gt;</th><th scope=col>&lt;dbl&gt;</th><th scope=col>&lt;dbl&gt;</th></tr>\n",
       "</thead>\n",
       "<tbody>\n",
       "\t<tr><td>66.396</td><td>69.002</td><td>67.738</td><td>66.5</td><td>70</td><td>68</td><td>15.40287</td><td>14.73727</td><td>15.60099</td></tr>\n",
       "</tbody>\n",
       "</table>\n"
      ],
      "text/latex": [
       "A tibble: 1 × 9\n",
       "\\begin{tabular}{lllllllll}\n",
       " math\\_mean & reading\\_mean & writing\\_mean & math\\_med & reading\\_med & writing\\_med & math\\_sd & reading\\_sd & writing\\_sd\\\\\n",
       " <dbl> & <dbl> & <dbl> & <dbl> & <dbl> & <dbl> & <dbl> & <dbl> & <dbl>\\\\\n",
       "\\hline\n",
       "\t 66.396 & 69.002 & 67.738 & 66.5 & 70 & 68 & 15.40287 & 14.73727 & 15.60099\\\\\n",
       "\\end{tabular}\n"
      ],
      "text/markdown": [
       "\n",
       "A tibble: 1 × 9\n",
       "\n",
       "| math_mean &lt;dbl&gt; | reading_mean &lt;dbl&gt; | writing_mean &lt;dbl&gt; | math_med &lt;dbl&gt; | reading_med &lt;dbl&gt; | writing_med &lt;dbl&gt; | math_sd &lt;dbl&gt; | reading_sd &lt;dbl&gt; | writing_sd &lt;dbl&gt; |\n",
       "|---|---|---|---|---|---|---|---|---|\n",
       "| 66.396 | 69.002 | 67.738 | 66.5 | 70 | 68 | 15.40287 | 14.73727 | 15.60099 |\n",
       "\n"
      ],
      "text/plain": [
       "  math_mean reading_mean writing_mean math_med reading_med writing_med math_sd \n",
       "1 66.396    69.002       67.738       66.5     70          68          15.40287\n",
       "  reading_sd writing_sd\n",
       "1 14.73727   15.60099  "
      ]
     },
     "metadata": {},
     "output_type": "display_data"
    }
   ],
   "source": [
    "exam <- exam |>\n",
    "  summarize(math_mean = mean(math.score), reading_mean = mean(reading.score), writing_mean = mean(writing.score),math_med = median(math.score),\n",
    "            reading_med = median(reading.score), writing_med = median(writing.score),\n",
    "            math_sd = sd(math.score), reading_sd = sd(reading.score), writing_sd = sd(writing.score))\n",
    "exam"
   ]
  },
  {
   "cell_type": "markdown",
   "id": "33db1c2d-7b68-4a0c-87e4-c34558038dba",
   "metadata": {},
   "source": [
    "We made box plots to show the student's score range for each subject (math, writing, reading)"
   ]
  },
  {
   "cell_type": "code",
   "execution_count": 56,
   "id": "32394c9e-c0e9-46ad-946a-0ca96c42d4b2",
   "metadata": {},
   "outputs": [
    {
     "ename": "ERROR",
     "evalue": "\u001b[1m\u001b[33mError\u001b[39m in \u001b[1m\u001b[1m`mutate()`:\u001b[22m\n\u001b[1m\u001b[22m\u001b[33m!\u001b[39m Problem while computing `test.preparation.course =\n  ifelse(test.preparation.course == 1, \"Yes\", \"No\")`.\n\u001b[1mCaused by error in \u001b[1m\u001b[1m`ifelse()`:\u001b[22m\n\u001b[33m!\u001b[39m object 'test.preparation.course' not found\n",
     "output_type": "error",
     "traceback": [
      "\u001b[1m\u001b[33mError\u001b[39m in \u001b[1m\u001b[1m`mutate()`:\u001b[22m\n\u001b[1m\u001b[22m\u001b[33m!\u001b[39m Problem while computing `test.preparation.course =\n  ifelse(test.preparation.course == 1, \"Yes\", \"No\")`.\n\u001b[1mCaused by error in \u001b[1m\u001b[1m`ifelse()`:\u001b[22m\n\u001b[33m!\u001b[39m object 'test.preparation.course' not found\nTraceback:\n",
      "1. exam %>% mutate(test.preparation.course = ifelse(test.preparation.course == \n .     1, \"Yes\", \"No\"))",
      "2. mutate(., test.preparation.course = ifelse(test.preparation.course == \n .     1, \"Yes\", \"No\"))",
      "3. mutate.data.frame(., test.preparation.course = ifelse(test.preparation.course == \n .     1, \"Yes\", \"No\"))",
      "4. mutate_cols(.data, dplyr_quosures(...), caller_env = caller_env())",
      "5. withCallingHandlers({\n .     for (i in seq_along(dots)) {\n .         context_poke(\"column\", old_current_column)\n .         quosures <- expand_across(dots[[i]])\n .         quosures_results <- vector(mode = \"list\", length = length(quosures))\n .         for (k in seq_along(quosures)) {\n .             quo <- quosures[[k]]\n .             quo_data <- attr(quo, \"dplyr:::data\")\n .             if (!is.null(quo_data$column)) {\n .                 context_poke(\"column\", quo_data$column)\n .             }\n .             chunks <- NULL\n .             result <- NULL\n .             if (quo_is_symbol(quo)) {\n .                 name <- as_string(quo_get_expr(quo))\n .                 if (name %in% names(new_columns)) {\n .                   result <- new_columns[[name]]\n .                   chunks <- mask$resolve(name)\n .                 }\n .                 else if (name %in% names(.data)) {\n .                   result <- .data[[name]]\n .                   chunks <- mask$resolve(name)\n .                 }\n .                 if (inherits(.data, \"rowwise_df\") && vec_is_list(result)) {\n .                   sizes <- list_sizes(result)\n .                   wrong <- which(sizes != 1)\n .                   if (length(wrong)) {\n .                     group <- wrong[1L]\n .                     mask$set_current_group(group)\n .                     abort(class = c(\"dplyr:::mutate_incompatible_size\", \n .                       \"dplyr:::internal_error\"), dplyr_error_data = list(result_size = sizes[group], \n .                       expected_size = 1))\n .                   }\n .                 }\n .             }\n .             else if (!quo_is_symbolic(quo) && !is.null(quo_get_expr(quo))) {\n .                 result <- quo_get_expr(quo)\n .                 result <- withCallingHandlers(vec_recycle(result, \n .                   vec_size(.data)), error = function(cnd) {\n .                   abort(class = c(\"dplyr:::mutate_constant_recycle_error\", \n .                     \"dplyr:::internal_error\"), constant_size = vec_size(result), \n .                     data_size = vec_size(.data))\n .                 })\n .                 chunks <- vec_chop(result, rows)\n .             }\n .             if (is.null(chunks)) {\n .                 if (is.null(quo_data$column)) {\n .                   chunks <- mask$eval_all_mutate(quo)\n .                 }\n .                 else {\n .                   chunks <- withCallingHandlers(mask$eval_all_mutate(quo), \n .                     error = function(cnd) {\n .                       msg <- glue(\"Problem while computing column `{quo_data$name_auto}`.\")\n .                       abort(msg, call = call(\"across\"), parent = cnd)\n .                     })\n .                 }\n .             }\n .             if (is.null(chunks)) {\n .                 next\n .             }\n .             if (is.null(result)) {\n .                 if (length(rows) == 1) {\n .                   result <- chunks[[1]]\n .                 }\n .                 else {\n .                   chunks <- dplyr_vec_cast_common(chunks, quo_data$name_auto)\n .                   result <- vec_unchop(chunks, rows)\n .                 }\n .             }\n .             quosures_results[[k]] <- list(result = result, chunks = chunks)\n .         }\n .         for (k in seq_along(quosures)) {\n .             quo <- quosures[[k]]\n .             quo_data <- attr(quo, \"dplyr:::data\")\n .             quo_result <- quosures_results[[k]]\n .             if (is.null(quo_result)) {\n .                 if (quo_data$is_named) {\n .                   name <- quo_data$name_given\n .                   new_columns[[name]] <- zap()\n .                   mask$remove(name)\n .                 }\n .                 next\n .             }\n .             result <- quo_result$result\n .             chunks <- quo_result$chunks\n .             if (!quo_data$is_named && is.data.frame(result)) {\n .                 types <- vec_ptype(result)\n .                 types_names <- names(types)\n .                 chunks_extracted <- .Call(dplyr_extract_chunks, \n .                   chunks, types)\n .                 for (j in seq_along(types)) {\n .                   mask$add_one(types_names[j], chunks_extracted[[j]], \n .                     result = result[[j]])\n .                 }\n .                 new_columns[types_names] <- result\n .             }\n .             else {\n .                 name <- quo_data$name_auto\n .                 mask$add_one(name = name, chunks = chunks, result = result)\n .                 new_columns[[name]] <- result\n .             }\n .         }\n .     }\n . }, error = function(e) {\n .     local_error_context(dots = dots, .index = i, mask = mask)\n .     bullets <- c(cnd_bullet_header(\"computing\"), mutate_bullets(e))\n .     abort(bullets, class = \"dplyr:::mutate_error\", parent = skip_internal_condition(e), \n .         bullets = bullets, call = error_call)\n . }, warning = function(w) {\n .     if (check_muffled_warning(w)) {\n .         maybe_restart(\"muffleWarning\")\n .     }\n .     local_error_context(dots = dots, .index = i, mask = mask)\n .     warn(c(cnd_bullet_header(\"computing\"), i = cnd_header(w), \n .         i = cnd_bullet_cur_group_label(what = \"warning\")))\n .     maybe_restart(\"muffleWarning\")\n . })",
      "6. mask$eval_all_mutate(quo)",
      "7. ifelse(test.preparation.course == 1, \"Yes\", \"No\")",
      "8. .handleSimpleError(function (e) \n . {\n .     local_error_context(dots = dots, .index = i, mask = mask)\n .     bullets <- c(cnd_bullet_header(\"computing\"), mutate_bullets(e))\n .     abort(bullets, class = \"dplyr:::mutate_error\", parent = skip_internal_condition(e), \n .         bullets = bullets, call = error_call)\n . }, \"object 'test.preparation.course' not found\", base::quote(ifelse(test.preparation.course == \n .     1, \"Yes\", \"No\")))",
      "9. h(simpleError(msg, call))",
      "10. abort(bullets, class = \"dplyr:::mutate_error\", parent = skip_internal_condition(e), \n  .     bullets = bullets, call = error_call)",
      "11. signal_abort(cnd, .file)"
     ]
    }
   ],
   "source": [
    "# Show box plot\n",
    "exam1 <- exam %>%\n",
    "    mutate(test.preparation.course = ifelse(test.preparation.course == 1, \"Yes\", \"No\"))\n",
    "\n",
    "bp1 <-ggplot(exam1,aes(x=test.preparation.course,y=math.score)) +\n",
    "        geom_boxplot() +\n",
    "        labs(x='Weather student do prereading',y='Score') +\n",
    "        ggtitle('Math')\n",
    "bp2 <-ggplot(exam1,aes(x=test.preparation.course,y=reading.score)) +\n",
    "        geom_boxplot() +\n",
    "        labs(x='Weather student do prereading',y='Score') +\n",
    "        ggtitle('Reading')\n",
    "bp3 <-ggplot(exam1,aes(x=test.preparation.course,y=writing.score)) +\n",
    "        geom_boxplot() +\n",
    "        labs(x='Weather student do prereading',y='Score')+\n",
    "        ggtitle('Writing')\n",
    "\n",
    "\n",
    "plot_grid(bp1,bp2,bp3,ncol = 3)\n"
   ]
  },
  {
   "cell_type": "code",
   "execution_count": null,
   "id": "d8e2a398-5fe4-49b0-bff7-ebc7300781e5",
   "metadata": {},
   "outputs": [],
   "source": [
    "#Start train data\n",
    "set.seed(2022)\n",
    "exam_split <- initial_split(exam, prop = 0.75, strata = test.preparation.course)\n",
    "exam_training <- training(exam_split)\n",
    "exam_testing <- testing(exam_split)\n",
    "\n",
    "exam_proportions <- exam_training |>\n",
    "                      group_by(test.preparation.course) |>\n",
    "                      summarize(n = n()) |>\n",
    "                      mutate(percent = 100*n/nrow(exam_training))\n",
    "exam_proportions\n",
    "\n",
    "           "
   ]
  },
  {
   "cell_type": "markdown",
   "id": "1a23bee3-ff53-4a9b-a32a-2cc20a55ae6a",
   "metadata": {},
   "source": [
    "We then made three scatter plots showing the relationship between each of the predictive variables (math score, writing score, reading score).  We colored the points depending on whether or not the student completed the preparatory course (0 = did not complete, 1 = completed)."
   ]
  },
  {
   "cell_type": "code",
   "execution_count": null,
   "id": "a56b0aed-d742-4186-839b-dfe09be19a27",
   "metadata": {},
   "outputs": [],
   "source": [
    "exam_plot1 <- exam_training |>\n",
    "  ggplot(aes(x = math.score, y = reading.score, color = test.preparation.course)) +\n",
    "  geom_point(alpha = 0.5) +\n",
    "  labs(x = \"Math Score\", \n",
    "       y = \"Reading Score\",\n",
    "       color = \"Test preparation status\") +\n",
    "scale_color_manual(labels = c(\"Not Completed\", \"Completed\"), \n",
    "                     values = c(\"orange2\", \"steelblue2\")) + \n",
    "\n",
    "  theme(text = element_text(size = 12))\n",
    "exam_plot1\n",
    "\n",
    "\n",
    "exam_plot2 <- exam_training |>\n",
    "  ggplot(aes(x = math.score, y = writing.score, color = test.preparation.course)) +\n",
    "  geom_point(alpha = 0.5) +\n",
    "  labs(x = \"Math Score\", \n",
    "       y = \"Writing Score\",\n",
    "       color = \"Test preparation status\") +\n",
    "scale_color_manual(labels = c(\"Not Completed\", \"Completed\"), \n",
    "                     values = c(\"orange2\", \"steelblue2\")) + \n",
    "  theme(text = element_text(size = 12))\n",
    "exam_plot2\n",
    "\n",
    "\n",
    "\n",
    "exam_plot3 <- exam_training |>\n",
    "  ggplot(aes(x = reading.score, y = writing.score, color = test.preparation.course)) +\n",
    "  geom_point(alpha = 0.5) +\n",
    "  labs(x = \"Reading Score\", \n",
    "       y = \"Writing Score\",\n",
    "       color = \"Test preparation status\") +\n",
    "scale_color_manual(labels = c(\"Not Completed\", \"Completed\"), \n",
    "                     values = c(\"orange2\", \"steelblue2\")) + \n",
    "  theme(text = element_text(size = 12))\n",
    "exam_plot3\n",
    "\n",
    "exam_plots <- plot_grid(exam_plot1, exam_plot2, exam_plot3)\n",
    "exam_plots\n",
    "\n"
   ]
  },
  {
   "cell_type": "markdown",
   "id": "7c083c52-13c8-42da-9bd1-16e5c47a315b",
   "metadata": {},
   "source": [
    "### METHODS"
   ]
  },
  {
   "cell_type": "markdown",
   "id": "b4e6aee2-70fc-4ab9-bd59-5919ee818783",
   "metadata": {},
   "source": [
    "We will select “test.preparation.course” column and the three test score columns (“math score”, “reading score”, “writing score”).   These are the only columns we will be using from the data set to answer our predictive question.   Using these three, we will train a K-nearest neighbor classifier to classify whether a student did or did not complete their test preparation course judging from their test scores (i.e. the test scores are the response variables).  To perform the K-nearest neighbor classification, we will:\n",
    "1. choose an appropriate K value\n",
    "2. select our predictor values (all three scores)\n",
    "3. train our model \n",
    "4. scale and center data (if necessary)\n",
    "4. finally, we will test the accuracy of our model\n",
    "\n"
   ]
  },
  {
   "cell_type": "markdown",
   "id": "df44adbd-e445-40cf-a027-508a333a3657",
   "metadata": {},
   "source": [
    "### EXPECTED OUTCOMES AND SIGNIFICANCE"
   ]
  },
  {
   "cell_type": "markdown",
   "id": "06509a73-84d0-4389-8b62-f5954138fff3",
   "metadata": {},
   "source": [
    "We expect to find that the ability does exist to predict whether or not a student has prepared for the test preparation course by their test results. The score that a student receives is a direct indication of whether or not they have prepared well by completing the test preparation course or not. We expect to find that if a student has completed the course, they have a high test score, but if they have not then their test score is more likely to be low.\n"
   ]
  },
  {
   "cell_type": "markdown",
   "id": "c9e39d86-d0f0-4210-a62a-cf3f8e62e858",
   "metadata": {},
   "source": [
    "These findings could show the importance of proper preparation for exams, and the impact that test preparation can have on test scores.\n"
   ]
  },
  {
   "cell_type": "markdown",
   "id": "a00d2cc7-fcec-4d8b-9287-2cb7990bcace",
   "metadata": {},
   "source": [
    "This could lead to future questions regarding the need for preparation prior to exams. An example could be: Can we predict how many hours a student has studied by their test results? Another stream of questioning could be: How many hours of preparation does it take to make a significant increase in an individual’s test scores?\n"
   ]
  }
 ],
 "metadata": {
  "kernelspec": {
   "display_name": "R",
   "language": "R",
   "name": "ir"
  },
  "language_info": {
   "codemirror_mode": "r",
   "file_extension": ".r",
   "mimetype": "text/x-r-source",
   "name": "R",
   "pygments_lexer": "r",
   "version": "4.1.3"
  }
 },
 "nbformat": 4,
 "nbformat_minor": 5
}
