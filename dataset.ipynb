{
 "cells": [
  {
   "cell_type": "markdown",
   "id": "6d65e8b9-87b4-458f-ac5a-e54896b18474",
   "metadata": {},
   "source": [
    "TITLE"
   ]
  },
  {
   "cell_type": "markdown",
   "id": "4cb5da6e-4a30-4285-be8b-63864839da6d",
   "metadata": {},
   "source": [
    "Can we predict whether or not a class completed a test preparation course based on their test results?\n"
   ]
  },
  {
   "cell_type": "markdown",
   "id": "604791a8-62b7-49ef-afcd-660b4b235b79",
   "metadata": {},
   "source": [
    "INTRODUCTION"
   ]
  },
  {
   "cell_type": "markdown",
   "id": "7a9dd94b-7e28-40b8-9bab-11a1d1b1daf4",
   "metadata": {},
   "source": [
    "Are high marks in school a result of hardwork and effort, or simply a result of natural intelligence? There always seem to be students who achieve high grades without having studied all semester. We want to explore whether success in exams can be achieved by natural intelligence alone, or whether hard work and studying is necessary to succeed."
   ]
  },
  {
   "cell_type": "markdown",
   "id": "f0b005d2-1b4e-4b42-ae8f-54ed35c21487",
   "metadata": {},
   "source": [
    "We would like to try to predict the following question: Can we use the academic test scores available to us to predict whether a student has completed a test preparation course prior to their test?\n"
   ]
  },
  {
   "cell_type": "markdown",
   "id": "ac7531ca-91f4-4be2-a8a7-bb18cd927929",
   "metadata": {},
   "source": [
    "We will be using a dataset of student exam scores at public schools. The dataset provides data for whether or not the student completed a test preparation course prior to the test, as well as their math, reading, and writing scores from the test. We will use this data to explore the relation between exam scores and preparation taken. \n"
   ]
  },
  {
   "cell_type": "markdown",
   "id": "7f4f74e2-b3ec-418f-8ccf-95a89d300ac9",
   "metadata": {},
   "source": [
    "PRELIMINARY EXPLORATORY DATA ANALYSIS"
   ]
  },
  {
   "cell_type": "markdown",
   "id": "ac2cad30-709d-4a72-84c3-a12fb32f107d",
   "metadata": {},
   "source": [
    "First, we loaded the tidyverse and tidymodels packages "
   ]
  },
  {
   "cell_type": "code",
   "execution_count": 11,
   "id": "a4f8f31b-e585-4174-9052-078a4d670a01",
   "metadata": {},
   "outputs": [
    {
     "name": "stderr",
     "output_type": "stream",
     "text": [
      "── \u001b[1mAttaching packages\u001b[22m ────────────────────────────────────── tidymodels 1.0.0 ──\n",
      "\n",
      "\u001b[32m✔\u001b[39m \u001b[34mbroom       \u001b[39m 1.0.0     \u001b[32m✔\u001b[39m \u001b[34mrsample     \u001b[39m 1.0.0\n",
      "\u001b[32m✔\u001b[39m \u001b[34mdials       \u001b[39m 1.0.0     \u001b[32m✔\u001b[39m \u001b[34mtune        \u001b[39m 1.0.0\n",
      "\u001b[32m✔\u001b[39m \u001b[34minfer       \u001b[39m 1.0.2     \u001b[32m✔\u001b[39m \u001b[34mworkflows   \u001b[39m 1.0.0\n",
      "\u001b[32m✔\u001b[39m \u001b[34mmodeldata   \u001b[39m 1.0.0     \u001b[32m✔\u001b[39m \u001b[34mworkflowsets\u001b[39m 1.0.0\n",
      "\u001b[32m✔\u001b[39m \u001b[34mparsnip     \u001b[39m 1.0.0     \u001b[32m✔\u001b[39m \u001b[34myardstick   \u001b[39m 1.0.0\n",
      "\u001b[32m✔\u001b[39m \u001b[34mrecipes     \u001b[39m 1.0.1     \n",
      "\n",
      "── \u001b[1mConflicts\u001b[22m ───────────────────────────────────────── tidymodels_conflicts() ──\n",
      "\u001b[31m✖\u001b[39m \u001b[34mscales\u001b[39m::\u001b[32mdiscard()\u001b[39m masks \u001b[34mpurrr\u001b[39m::discard()\n",
      "\u001b[31m✖\u001b[39m \u001b[34mdplyr\u001b[39m::\u001b[32mfilter()\u001b[39m   masks \u001b[34mstats\u001b[39m::filter()\n",
      "\u001b[31m✖\u001b[39m \u001b[34mrecipes\u001b[39m::\u001b[32mfixed()\u001b[39m  masks \u001b[34mstringr\u001b[39m::fixed()\n",
      "\u001b[31m✖\u001b[39m \u001b[34mdplyr\u001b[39m::\u001b[32mlag()\u001b[39m      masks \u001b[34mstats\u001b[39m::lag()\n",
      "\u001b[31m✖\u001b[39m \u001b[34myardstick\u001b[39m::\u001b[32mspec()\u001b[39m masks \u001b[34mreadr\u001b[39m::spec()\n",
      "\u001b[31m✖\u001b[39m \u001b[34mrecipes\u001b[39m::\u001b[32mstep()\u001b[39m   masks \u001b[34mstats\u001b[39m::step()\n",
      "\u001b[34m•\u001b[39m Search for functions across packages at \u001b[32mhttps://www.tidymodels.org/find/\u001b[39m\n",
      "\n"
     ]
    }
   ],
   "source": [
    "library(tidyverse)\n",
    "library(tidymodels)"
   ]
  },
  {
   "cell_type": "markdown",
   "id": "2783e96d-9026-4b0e-8e30-e6f4a502ebfa",
   "metadata": {},
   "source": [
    "We loaded our dataset \"exams\" as a .csv file using the read_csv function and saved it to the object exam_data"
   ]
  },
  {
   "cell_type": "code",
   "execution_count": 48,
   "id": "981b4bd2-c312-4879-90d9-6790a2d3300a",
   "metadata": {},
   "outputs": [
    {
     "name": "stderr",
     "output_type": "stream",
     "text": [
      "\u001b[1mRows: \u001b[22m\u001b[34m1000\u001b[39m \u001b[1mColumns: \u001b[22m\u001b[34m8\u001b[39m\n",
      "\u001b[36m──\u001b[39m \u001b[1mColumn specification\u001b[22m \u001b[36m────────────────────────────────────────────────────────\u001b[39m\n",
      "\u001b[1mDelimiter:\u001b[22m \",\"\n",
      "\u001b[31mchr\u001b[39m (5): gender, race/ethnicity, parental level of education, lunch, test pr...\n",
      "\u001b[32mdbl\u001b[39m (3): math score, reading score, writing score\n",
      "\n",
      "\u001b[36mℹ\u001b[39m Use `spec()` to retrieve the full column specification for this data.\n",
      "\u001b[36mℹ\u001b[39m Specify the column types or set `show_col_types = FALSE` to quiet this message.\n"
     ]
    },
    {
     "data": {
      "text/html": [
       "<table class=\"dataframe\">\n",
       "<caption>A tibble: 6 × 8</caption>\n",
       "<thead>\n",
       "\t<tr><th scope=col>gender</th><th scope=col>race.ethnicity</th><th scope=col>parental.level.of.education</th><th scope=col>lunch</th><th scope=col>test.preparation.course</th><th scope=col>math.score</th><th scope=col>reading.score</th><th scope=col>writing.score</th></tr>\n",
       "\t<tr><th scope=col>&lt;chr&gt;</th><th scope=col>&lt;chr&gt;</th><th scope=col>&lt;chr&gt;</th><th scope=col>&lt;chr&gt;</th><th scope=col>&lt;chr&gt;</th><th scope=col>&lt;dbl&gt;</th><th scope=col>&lt;dbl&gt;</th><th scope=col>&lt;dbl&gt;</th></tr>\n",
       "</thead>\n",
       "<tbody>\n",
       "\t<tr><td>male  </td><td>group A</td><td>high school       </td><td>standard    </td><td>completed</td><td>67</td><td>67</td><td>63</td></tr>\n",
       "\t<tr><td>female</td><td>group D</td><td>some high school  </td><td>free/reduced</td><td>none     </td><td>40</td><td>59</td><td>55</td></tr>\n",
       "\t<tr><td>male  </td><td>group E</td><td>some college      </td><td>free/reduced</td><td>none     </td><td>59</td><td>60</td><td>50</td></tr>\n",
       "\t<tr><td>male  </td><td>group B</td><td>high school       </td><td>standard    </td><td>none     </td><td>77</td><td>78</td><td>68</td></tr>\n",
       "\t<tr><td>male  </td><td>group E</td><td>associate's degree</td><td>standard    </td><td>completed</td><td>78</td><td>73</td><td>68</td></tr>\n",
       "\t<tr><td>female</td><td>group D</td><td>high school       </td><td>standard    </td><td>none     </td><td>63</td><td>77</td><td>76</td></tr>\n",
       "</tbody>\n",
       "</table>\n"
      ],
      "text/latex": [
       "A tibble: 6 × 8\n",
       "\\begin{tabular}{llllllll}\n",
       " gender & race.ethnicity & parental.level.of.education & lunch & test.preparation.course & math.score & reading.score & writing.score\\\\\n",
       " <chr> & <chr> & <chr> & <chr> & <chr> & <dbl> & <dbl> & <dbl>\\\\\n",
       "\\hline\n",
       "\t male   & group A & high school        & standard     & completed & 67 & 67 & 63\\\\\n",
       "\t female & group D & some high school   & free/reduced & none      & 40 & 59 & 55\\\\\n",
       "\t male   & group E & some college       & free/reduced & none      & 59 & 60 & 50\\\\\n",
       "\t male   & group B & high school        & standard     & none      & 77 & 78 & 68\\\\\n",
       "\t male   & group E & associate's degree & standard     & completed & 78 & 73 & 68\\\\\n",
       "\t female & group D & high school        & standard     & none      & 63 & 77 & 76\\\\\n",
       "\\end{tabular}\n"
      ],
      "text/markdown": [
       "\n",
       "A tibble: 6 × 8\n",
       "\n",
       "| gender &lt;chr&gt; | race.ethnicity &lt;chr&gt; | parental.level.of.education &lt;chr&gt; | lunch &lt;chr&gt; | test.preparation.course &lt;chr&gt; | math.score &lt;dbl&gt; | reading.score &lt;dbl&gt; | writing.score &lt;dbl&gt; |\n",
       "|---|---|---|---|---|---|---|---|\n",
       "| male   | group A | high school        | standard     | completed | 67 | 67 | 63 |\n",
       "| female | group D | some high school   | free/reduced | none      | 40 | 59 | 55 |\n",
       "| male   | group E | some college       | free/reduced | none      | 59 | 60 | 50 |\n",
       "| male   | group B | high school        | standard     | none      | 77 | 78 | 68 |\n",
       "| male   | group E | associate's degree | standard     | completed | 78 | 73 | 68 |\n",
       "| female | group D | high school        | standard     | none      | 63 | 77 | 76 |\n",
       "\n"
      ],
      "text/plain": [
       "  gender race.ethnicity parental.level.of.education lunch       \n",
       "1 male   group A        high school                 standard    \n",
       "2 female group D        some high school            free/reduced\n",
       "3 male   group E        some college                free/reduced\n",
       "4 male   group B        high school                 standard    \n",
       "5 male   group E        associate's degree          standard    \n",
       "6 female group D        high school                 standard    \n",
       "  test.preparation.course math.score reading.score writing.score\n",
       "1 completed               67         67            63           \n",
       "2 none                    40         59            55           \n",
       "3 none                    59         60            50           \n",
       "4 none                    77         78            68           \n",
       "5 completed               78         73            68           \n",
       "6 none                    63         77            76           "
      ]
     },
     "metadata": {},
     "output_type": "display_data"
    }
   ],
   "source": [
    "#Read data\n",
    "exam_data <- read_csv(\"exams.csv\")\n",
    "head(exam_data)\n",
    "#Change the col name\n",
    "colnames(exam_data) <- make.names(colnames(exam_data))\n",
    "head(exam_data)"
   ]
  },
  {
   "cell_type": "markdown",
   "id": "ee17b9f9-a297-4d7f-a134-e9b67f141248",
   "metadata": {},
   "source": [
    "We replaced the spaces in the column names using the make.names function so that we can use the tidyverse functions"
   ]
  },
  {
   "cell_type": "markdown",
   "id": "715652d7-5c51-4c34-901e-4f0fc788e23d",
   "metadata": {},
   "source": [
    "We mutated the exam data "
   ]
  },
  {
   "cell_type": "code",
   "execution_count": 58,
   "id": "81d89ba3-dbbd-48db-a9cb-a5db9a85b89c",
   "metadata": {},
   "outputs": [
    {
     "data": {
      "text/html": [
       "<table class=\"dataframe\">\n",
       "<caption>A tibble: 6 × 4</caption>\n",
       "<thead>\n",
       "\t<tr><th scope=col>test.preparation.course</th><th scope=col>math.score</th><th scope=col>reading.score</th><th scope=col>writing.score</th></tr>\n",
       "\t<tr><th scope=col>&lt;fct&gt;</th><th scope=col>&lt;dbl&gt;</th><th scope=col>&lt;dbl&gt;</th><th scope=col>&lt;dbl&gt;</th></tr>\n",
       "</thead>\n",
       "<tbody>\n",
       "\t<tr><td>1</td><td>67</td><td>67</td><td>63</td></tr>\n",
       "\t<tr><td>0</td><td>40</td><td>59</td><td>55</td></tr>\n",
       "\t<tr><td>0</td><td>59</td><td>60</td><td>50</td></tr>\n",
       "\t<tr><td>0</td><td>77</td><td>78</td><td>68</td></tr>\n",
       "\t<tr><td>1</td><td>78</td><td>73</td><td>68</td></tr>\n",
       "\t<tr><td>0</td><td>63</td><td>77</td><td>76</td></tr>\n",
       "</tbody>\n",
       "</table>\n"
      ],
      "text/latex": [
       "A tibble: 6 × 4\n",
       "\\begin{tabular}{llll}\n",
       " test.preparation.course & math.score & reading.score & writing.score\\\\\n",
       " <fct> & <dbl> & <dbl> & <dbl>\\\\\n",
       "\\hline\n",
       "\t 1 & 67 & 67 & 63\\\\\n",
       "\t 0 & 40 & 59 & 55\\\\\n",
       "\t 0 & 59 & 60 & 50\\\\\n",
       "\t 0 & 77 & 78 & 68\\\\\n",
       "\t 1 & 78 & 73 & 68\\\\\n",
       "\t 0 & 63 & 77 & 76\\\\\n",
       "\\end{tabular}\n"
      ],
      "text/markdown": [
       "\n",
       "A tibble: 6 × 4\n",
       "\n",
       "| test.preparation.course &lt;fct&gt; | math.score &lt;dbl&gt; | reading.score &lt;dbl&gt; | writing.score &lt;dbl&gt; |\n",
       "|---|---|---|---|\n",
       "| 1 | 67 | 67 | 63 |\n",
       "| 0 | 40 | 59 | 55 |\n",
       "| 0 | 59 | 60 | 50 |\n",
       "| 0 | 77 | 78 | 68 |\n",
       "| 1 | 78 | 73 | 68 |\n",
       "| 0 | 63 | 77 | 76 |\n",
       "\n"
      ],
      "text/plain": [
       "  test.preparation.course math.score reading.score writing.score\n",
       "1 1                       67         67            63           \n",
       "2 0                       40         59            55           \n",
       "3 0                       59         60            50           \n",
       "4 0                       77         78            68           \n",
       "5 1                       78         73            68           \n",
       "6 0                       63         77            76           "
      ]
     },
     "metadata": {},
     "output_type": "display_data"
    }
   ],
   "source": [
    "#Make the test.preparation.course 0 and 1 then as factor\n",
    "exam <- exam_data |>\n",
    "mutate(test.preparation.course = ifelse(test.preparation.course == \"completed\", 1, 0)) |>\n",
    "mutate(test.preparation.course = as_factor(test.preparation.course)) |>\n",
    "select(test.preparation.course, math.score, reading.score, writing.score)\n",
    "head(exam)\n"
   ]
  },
  {
   "cell_type": "code",
   "execution_count": 61,
   "id": "32394c9e-c0e9-46ad-946a-0ca96c42d4b2",
   "metadata": {},
   "outputs": [
    {
     "data": {
      "image/png": "[encoded data removed]",
      "text/plain": [
       "plot without title"
      ]
     },
     "metadata": {
      "image/png": {
       "height": 420,
       "width": 420
      }
     },
     "output_type": "display_data"
    },
    {
     "data": {
      "image/png": "[encoded data removed]",
      "text/plain": [
       "plot without title"
      ]
     },
     "metadata": {
      "image/png": {
       "height": 420,
       "width": 420
      }
     },
     "output_type": "display_data"
    },
    {
     "data": {
      "image/png": "[encoded data removed]",
      "text/plain": [
       "plot without title"
      ]
     },
     "metadata": {
      "image/png": {
       "height": 420,
       "width": 420
      }
     },
     "output_type": "display_data"
    }
   ],
   "source": [
    "#Show box plot\n",
    "exam_0 <- exam |> filter(test.preparation.course==0)\n",
    "exam_1 <- exam |> filter(test.preparation.course==1)\n",
    "boxplot(exam_0$math.score,exam_1$math.score)\n",
    "boxplot(exam_0$reading.score,exam_1$reading.score)\n",
    "boxplot(exam_0$writing.score,exam_1$writing.score)\n"
   ]
  },
  {
   "cell_type": "code",
   "execution_count": 59,
   "id": "d8e2a398-5fe4-49b0-bff7-ebc7300781e5",
   "metadata": {},
   "outputs": [
    {
     "data": {
      "text/html": [
       "<table class=\"dataframe\">\n",
       "<caption>A tibble: 2 × 3</caption>\n",
       "<thead>\n",
       "\t<tr><th scope=col>test.preparation.course</th><th scope=col>n</th><th scope=col>percent</th></tr>\n",
       "\t<tr><th scope=col>&lt;fct&gt;</th><th scope=col>&lt;int&gt;</th><th scope=col>&lt;dbl&gt;</th></tr>\n",
       "</thead>\n",
       "<tbody>\n",
       "\t<tr><td>0</td><td>498</td><td>66.48865</td></tr>\n",
       "\t<tr><td>1</td><td>251</td><td>33.51135</td></tr>\n",
       "</tbody>\n",
       "</table>\n"
      ],
      "text/latex": [
       "A tibble: 2 × 3\n",
       "\\begin{tabular}{lll}\n",
       " test.preparation.course & n & percent\\\\\n",
       " <fct> & <int> & <dbl>\\\\\n",
       "\\hline\n",
       "\t 0 & 498 & 66.48865\\\\\n",
       "\t 1 & 251 & 33.51135\\\\\n",
       "\\end{tabular}\n"
      ],
      "text/markdown": [
       "\n",
       "A tibble: 2 × 3\n",
       "\n",
       "| test.preparation.course &lt;fct&gt; | n &lt;int&gt; | percent &lt;dbl&gt; |\n",
       "|---|---|---|\n",
       "| 0 | 498 | 66.48865 |\n",
       "| 1 | 251 | 33.51135 |\n",
       "\n"
      ],
      "text/plain": [
       "  test.preparation.course n   percent \n",
       "1 0                       498 66.48865\n",
       "2 1                       251 33.51135"
      ]
     },
     "metadata": {},
     "output_type": "display_data"
    }
   ],
   "source": [
    "#Start train data\n",
    "exam_split <- initial_split(exam, prop = 0.75, strata = test.preparation.course)\n",
    "exam_training <- training(exam_split)\n",
    "exam_testing <- testing(exam_split)\n",
    "\n",
    "exam_proportions <- exam_training |>\n",
    "                      group_by(test.preparation.course) |>\n",
    "                      summarize(n = n()) |>\n",
    "                      mutate(percent = 100*n/nrow(exam_training))\n",
    "exam_proportions\n",
    "\n",
    "           "
   ]
  },
  {
   "cell_type": "code",
   "execution_count": 36,
   "id": "a56b0aed-d742-4186-839b-dfe09be19a27",
   "metadata": {},
   "outputs": [
    {
     "name": "stderr",
     "output_type": "stream",
     "text": [
      "ERROR while rich displaying an object: Error: Continuous value supplied to discrete scale\n",
      "\n",
      "Traceback:\n",
      "1. tryCatch(withCallingHandlers({\n",
      " .     if (!mime %in% names(repr::mime2repr)) \n",
      " .         stop(\"No repr_* for mimetype \", mime, \" in repr::mime2repr\")\n",
      " .     rpr <- repr::mime2repr[[mime]](obj)\n",
      " .     if (is.null(rpr)) \n",
      " .         return(NULL)\n",
      " .     prepare_content(is.raw(rpr), rpr)\n",
      " . }, error = error_handler), error = outer_handler)\n",
      "2. tryCatchList(expr, classes, parentenv, handlers)\n",
      "3. tryCatchOne(expr, names, parentenv, handlers[[1L]])\n",
      "4. doTryCatch(return(expr), name, parentenv, handler)\n",
      "5. withCallingHandlers({\n",
      " .     if (!mime %in% names(repr::mime2repr)) \n",
      " .         stop(\"No repr_* for mimetype \", mime, \" in repr::mime2repr\")\n",
      " .     rpr <- repr::mime2repr[[mime]](obj)\n",
      " .     if (is.null(rpr)) \n",
      " .         return(NULL)\n",
      " .     prepare_content(is.raw(rpr), rpr)\n",
      " . }, error = error_handler)\n",
      "6. repr::mime2repr[[mime]](obj)\n",
      "7. repr_text.default(obj)\n",
      "8. paste(capture.output(print(obj)), collapse = \"\\n\")\n",
      "9. capture.output(print(obj))\n",
      "10. withVisible(...elt(i))\n",
      "11. print(obj)\n",
      "12. print.ggplot(obj)\n",
      "13. ggplot_build(x)\n",
      "14. ggplot_build.ggplot(x)\n",
      "15. lapply(data, scales_train_df, scales = npscales)\n",
      "16. FUN(X[[i]], ...)\n",
      "17. lapply(scales$scales, function(scale) scale$train_df(df = df))\n",
      "18. FUN(X[[i]], ...)\n",
      "19. scale$train_df(df = df)\n",
      "20. f(..., self = self)\n",
      "21. self$train(df[[aesthetic]])\n",
      "22. f(..., self = self)\n",
      "23. self$range$train(x, drop = self$drop, na.rm = !self$na.translate)\n",
      "24. f(..., self = self)\n",
      "25. scales::train_discrete(x, self$range, drop = drop, na.rm = na.rm)\n",
      "26. stop(\"Continuous value supplied to discrete scale\", call. = FALSE)\n",
      "ERROR while rich displaying an object: Error: Continuous value supplied to discrete scale\n",
      "\n",
      "Traceback:\n",
      "1. tryCatch(withCallingHandlers({\n",
      " .     if (!mime %in% names(repr::mime2repr)) \n",
      " .         stop(\"No repr_* for mimetype \", mime, \" in repr::mime2repr\")\n",
      " .     rpr <- repr::mime2repr[[mime]](obj)\n",
      " .     if (is.null(rpr)) \n",
      " .         return(NULL)\n",
      " .     prepare_content(is.raw(rpr), rpr)\n",
      " . }, error = error_handler), error = outer_handler)\n",
      "2. tryCatchList(expr, classes, parentenv, handlers)\n",
      "3. tryCatchOne(expr, names, parentenv, handlers[[1L]])\n",
      "4. doTryCatch(return(expr), name, parentenv, handler)\n",
      "5. withCallingHandlers({\n",
      " .     if (!mime %in% names(repr::mime2repr)) \n",
      " .         stop(\"No repr_* for mimetype \", mime, \" in repr::mime2repr\")\n",
      " .     rpr <- repr::mime2repr[[mime]](obj)\n",
      " .     if (is.null(rpr)) \n",
      " .         return(NULL)\n",
      " .     prepare_content(is.raw(rpr), rpr)\n",
      " . }, error = error_handler)\n",
      "6. repr::mime2repr[[mime]](obj)\n",
      "7. repr_text.default(obj)\n",
      "8. paste(capture.output(print(obj)), collapse = \"\\n\")\n",
      "9. capture.output(print(obj))\n",
      "10. withVisible(...elt(i))\n",
      "11. print(obj)\n",
      "12. print.ggplot(obj)\n",
      "13. ggplot_build(x)\n",
      "14. ggplot_build.ggplot(x)\n",
      "15. lapply(data, scales_train_df, scales = npscales)\n",
      "16. FUN(X[[i]], ...)\n",
      "17. lapply(scales$scales, function(scale) scale$train_df(df = df))\n",
      "18. FUN(X[[i]], ...)\n",
      "19. scale$train_df(df = df)\n",
      "20. f(..., self = self)\n",
      "21. self$train(df[[aesthetic]])\n",
      "22. f(..., self = self)\n",
      "23. self$range$train(x, drop = self$drop, na.rm = !self$na.translate)\n",
      "24. f(..., self = self)\n",
      "25. scales::train_discrete(x, self$range, drop = drop, na.rm = na.rm)\n",
      "26. stop(\"Continuous value supplied to discrete scale\", call. = FALSE)\n",
      "ERROR while rich displaying an object: Error: Continuous value supplied to discrete scale\n",
      "\n",
      "Traceback:\n",
      "1. tryCatch(withCallingHandlers({\n",
      " .     if (!mime %in% names(repr::mime2repr)) \n",
      " .         stop(\"No repr_* for mimetype \", mime, \" in repr::mime2repr\")\n",
      " .     rpr <- repr::mime2repr[[mime]](obj)\n",
      " .     if (is.null(rpr)) \n",
      " .         return(NULL)\n",
      " .     prepare_content(is.raw(rpr), rpr)\n",
      " . }, error = error_handler), error = outer_handler)\n",
      "2. tryCatchList(expr, classes, parentenv, handlers)\n",
      "3. tryCatchOne(expr, names, parentenv, handlers[[1L]])\n",
      "4. doTryCatch(return(expr), name, parentenv, handler)\n",
      "5. withCallingHandlers({\n",
      " .     if (!mime %in% names(repr::mime2repr)) \n",
      " .         stop(\"No repr_* for mimetype \", mime, \" in repr::mime2repr\")\n",
      " .     rpr <- repr::mime2repr[[mime]](obj)\n",
      " .     if (is.null(rpr)) \n",
      " .         return(NULL)\n",
      " .     prepare_content(is.raw(rpr), rpr)\n",
      " . }, error = error_handler)\n",
      "6. repr::mime2repr[[mime]](obj)\n",
      "7. repr_text.default(obj)\n",
      "8. paste(capture.output(print(obj)), collapse = \"\\n\")\n",
      "9. capture.output(print(obj))\n",
      "10. withVisible(...elt(i))\n",
      "11. print(obj)\n",
      "12. print.ggplot(obj)\n",
      "13. ggplot_build(x)\n",
      "14. ggplot_build.ggplot(x)\n",
      "15. lapply(data, scales_train_df, scales = npscales)\n",
      "16. FUN(X[[i]], ...)\n",
      "17. lapply(scales$scales, function(scale) scale$train_df(df = df))\n",
      "18. FUN(X[[i]], ...)\n",
      "19. scale$train_df(df = df)\n",
      "20. f(..., self = self)\n",
      "21. self$train(df[[aesthetic]])\n",
      "22. f(..., self = self)\n",
      "23. self$range$train(x, drop = self$drop, na.rm = !self$na.translate)\n",
      "24. f(..., self = self)\n",
      "25. scales::train_discrete(x, self$range, drop = drop, na.rm = na.rm)\n",
      "26. stop(\"Continuous value supplied to discrete scale\", call. = FALSE)\n"
     ]
    },
    {
     "data": {
      "image/png": "[encoded data removed]",
      "text/plain": [
       "plot without title"
      ]
     },
     "metadata": {
      "image/png": {
       "height": 420,
       "width": 420
      }
     },
     "output_type": "display_data"
    }
   ],
   "source": [
    "exam_plot1 <- exam_training |>\n",
    "  ggplot(aes(x = math.score, y = reading.score, color = test.preparation.course)) +\n",
    "  geom_point(alpha = 0.5) +\n",
    "  labs(x = \"Math Score\", \n",
    "       y = \"Reading Score\",\n",
    "       color = \"Test preparation status\") +\n",
    "  scale_color_manual(labels = c(\"Completed\", \"Not Completed\"), \n",
    "                     values = c(\"orange2\", \"steelblue2\")) +\n",
    "  theme(text = element_text(size = 12))\n",
    "exam_plot1\n",
    "\n",
    "\n",
    "exam_plot2 <- exam_training |>\n",
    "  ggplot(aes(x = math.score, y = writing.score, color = test.preparation.course)) +\n",
    "  geom_point(alpha = 0.5) +\n",
    "  labs(x = \"Math Score\", \n",
    "       y = \"Writing Score\",\n",
    "       color = \"Test preparation status\") +\n",
    "  scale_color_manual(labels = c(\"Completed\", \"Not Completed\"), \n",
    "                     values = c(\"orange2\", \"steelblue2\")) +\n",
    "  theme(text = element_text(size = 12))\n",
    "exam_plot2\n",
    "\n",
    "\n",
    "\n",
    "exam_plot3 <- exam_training |>\n",
    "  ggplot(aes(x = reading.score, y = writing.score, color = test.preparation.course)) +\n",
    "  geom_point(alpha = 0.5) +\n",
    "  labs(x = \"Reading Score\", \n",
    "       y = \"Writing Score\",\n",
    "       color = \"Test preparation status\") +\n",
    "  scale_color_manual(labels = c(\"Completed\", \"Not Completed\"), \n",
    "                     values = c(\"orange2\", \"steelblue2\")) +\n",
    "  theme(text = element_text(size = 12))\n",
    "exam_plot3\n",
    "\n"
   ]
  },
  {
   "cell_type": "markdown",
   "id": "06509a73-84d0-4389-8b62-f5954138fff3",
   "metadata": {},
   "source": [
    "We expect to find that the ability does exist to predict whether or not a student has prepared for the test preparation course by their test results. The score that a student receives is a direct indication of whether or not they have prepared well by completing the test preparation course or not. We expect to find that if a student has completed the course, they have a high test score, but if they have not then their test score is more likely to be low.\n"
   ]
  },
  {
   "cell_type": "markdown",
   "id": "c9e39d86-d0f0-4210-a62a-cf3f8e62e858",
   "metadata": {},
   "source": [
    "These findings could show the importance of proper preparation for exams, and the impact that test preparation can have on test scores.\n"
   ]
  },
  {
   "cell_type": "markdown",
   "id": "a00d2cc7-fcec-4d8b-9287-2cb7990bcace",
   "metadata": {},
   "source": [
    "This could lead to future questions regarding the need for preparation prior to exams. An example could be: Can we predict how many hours a student has studied by their test results? Another stream of questioning could be: How many hours of preparation does it take to make a significant increase in an individual’s test scores?\n"
   ]
  },
  {
   "cell_type": "code",
   "execution_count": null,
   "id": "9a87dd88-ab5f-4318-afd5-e111c533ad2e",
   "metadata": {},
   "outputs": [],
   "source": []
  }
 ],
 "metadata": {
  "kernelspec": {
   "display_name": "R",
   "language": "R",
   "name": "ir"
  },
  "language_info": {
   "codemirror_mode": "r",
   "file_extension": ".r",
   "mimetype": "text/x-r-source",
   "name": "R",
   "pygments_lexer": "r",
   "version": "4.1.3"
  }
 },
 "nbformat": 4,
 "nbformat_minor": 5
}
